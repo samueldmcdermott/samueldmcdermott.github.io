{
  "nbformat": 4,
  "nbformat_minor": 0,
  "metadata": {
    "colab": {
      "name": "SBIGalaxyClusterMass.ipynb",
      "provenance": [],
      "collapsed_sections": [],
      "include_colab_link": true
    },
    "kernelspec": {
      "name": "python3",
      "display_name": "Python 3"
    },
    "language_info": {
      "name": "python"
    },
    "widgets": {
      "application/vnd.jupyter.widget-state+json": {
        "3e2d33f63bbc4945949f1619f4e0705e": {
          "model_module": "@jupyter-widgets/controls",
          "model_name": "HBoxModel",
          "model_module_version": "1.5.0",
          "state": {
            "_dom_classes": [],
            "_model_module": "@jupyter-widgets/controls",
            "_model_module_version": "1.5.0",
            "_model_name": "HBoxModel",
            "_view_count": null,
            "_view_module": "@jupyter-widgets/controls",
            "_view_module_version": "1.5.0",
            "_view_name": "HBoxView",
            "box_style": "",
            "children": [
              "IPY_MODEL_97ca77e5d30e428a830bca672b15f37e",
              "IPY_MODEL_128c8b63321c46ed9677df2685745941",
              "IPY_MODEL_5ab5120a0b834ca1bf4da18a947815bc"
            ],
            "layout": "IPY_MODEL_186988959fe64f8cb34ae0910500945b"
          }
        },
        "97ca77e5d30e428a830bca672b15f37e": {
          "model_module": "@jupyter-widgets/controls",
          "model_name": "HTMLModel",
          "model_module_version": "1.5.0",
          "state": {
            "_dom_classes": [],
            "_model_module": "@jupyter-widgets/controls",
            "_model_module_version": "1.5.0",
            "_model_name": "HTMLModel",
            "_view_count": null,
            "_view_module": "@jupyter-widgets/controls",
            "_view_module_version": "1.5.0",
            "_view_name": "HTMLView",
            "description": "",
            "description_tooltip": null,
            "layout": "IPY_MODEL_3fa18d728bc1479daf9c3486cd37d6f5",
            "placeholder": "​",
            "style": "IPY_MODEL_7a751324b84f4bd788ed955ee473db65",
            "value": "Drawing 10000 posterior samples: 100%"
          }
        },
        "128c8b63321c46ed9677df2685745941": {
          "model_module": "@jupyter-widgets/controls",
          "model_name": "FloatProgressModel",
          "model_module_version": "1.5.0",
          "state": {
            "_dom_classes": [],
            "_model_module": "@jupyter-widgets/controls",
            "_model_module_version": "1.5.0",
            "_model_name": "FloatProgressModel",
            "_view_count": null,
            "_view_module": "@jupyter-widgets/controls",
            "_view_module_version": "1.5.0",
            "_view_name": "ProgressView",
            "bar_style": "success",
            "description": "",
            "description_tooltip": null,
            "layout": "IPY_MODEL_bb2221a7f5c24105be9976de9fa0f5b0",
            "max": 10000,
            "min": 0,
            "orientation": "horizontal",
            "style": "IPY_MODEL_3f00323b0da04cc2a4646dc8b1fd6cd5",
            "value": 10000
          }
        },
        "5ab5120a0b834ca1bf4da18a947815bc": {
          "model_module": "@jupyter-widgets/controls",
          "model_name": "HTMLModel",
          "model_module_version": "1.5.0",
          "state": {
            "_dom_classes": [],
            "_model_module": "@jupyter-widgets/controls",
            "_model_module_version": "1.5.0",
            "_model_name": "HTMLModel",
            "_view_count": null,
            "_view_module": "@jupyter-widgets/controls",
            "_view_module_version": "1.5.0",
            "_view_name": "HTMLView",
            "description": "",
            "description_tooltip": null,
            "layout": "IPY_MODEL_ebfde025e5c64a2a993c3d32222c487c",
            "placeholder": "​",
            "style": "IPY_MODEL_d11ccb85539b49bfbfa44edcd6a6cca2",
            "value": " 10000/10000 [00:00&lt;00:00, 123449.02it/s]"
          }
        },
        "186988959fe64f8cb34ae0910500945b": {
          "model_module": "@jupyter-widgets/base",
          "model_name": "LayoutModel",
          "model_module_version": "1.2.0",
          "state": {
            "_model_module": "@jupyter-widgets/base",
            "_model_module_version": "1.2.0",
            "_model_name": "LayoutModel",
            "_view_count": null,
            "_view_module": "@jupyter-widgets/base",
            "_view_module_version": "1.2.0",
            "_view_name": "LayoutView",
            "align_content": null,
            "align_items": null,
            "align_self": null,
            "border": null,
            "bottom": null,
            "display": null,
            "flex": null,
            "flex_flow": null,
            "grid_area": null,
            "grid_auto_columns": null,
            "grid_auto_flow": null,
            "grid_auto_rows": null,
            "grid_column": null,
            "grid_gap": null,
            "grid_row": null,
            "grid_template_areas": null,
            "grid_template_columns": null,
            "grid_template_rows": null,
            "height": null,
            "justify_content": null,
            "justify_items": null,
            "left": null,
            "margin": null,
            "max_height": null,
            "max_width": null,
            "min_height": null,
            "min_width": null,
            "object_fit": null,
            "object_position": null,
            "order": null,
            "overflow": null,
            "overflow_x": null,
            "overflow_y": null,
            "padding": null,
            "right": null,
            "top": null,
            "visibility": null,
            "width": null
          }
        },
        "3fa18d728bc1479daf9c3486cd37d6f5": {
          "model_module": "@jupyter-widgets/base",
          "model_name": "LayoutModel",
          "model_module_version": "1.2.0",
          "state": {
            "_model_module": "@jupyter-widgets/base",
            "_model_module_version": "1.2.0",
            "_model_name": "LayoutModel",
            "_view_count": null,
            "_view_module": "@jupyter-widgets/base",
            "_view_module_version": "1.2.0",
            "_view_name": "LayoutView",
            "align_content": null,
            "align_items": null,
            "align_self": null,
            "border": null,
            "bottom": null,
            "display": null,
            "flex": null,
            "flex_flow": null,
            "grid_area": null,
            "grid_auto_columns": null,
            "grid_auto_flow": null,
            "grid_auto_rows": null,
            "grid_column": null,
            "grid_gap": null,
            "grid_row": null,
            "grid_template_areas": null,
            "grid_template_columns": null,
            "grid_template_rows": null,
            "height": null,
            "justify_content": null,
            "justify_items": null,
            "left": null,
            "margin": null,
            "max_height": null,
            "max_width": null,
            "min_height": null,
            "min_width": null,
            "object_fit": null,
            "object_position": null,
            "order": null,
            "overflow": null,
            "overflow_x": null,
            "overflow_y": null,
            "padding": null,
            "right": null,
            "top": null,
            "visibility": null,
            "width": null
          }
        },
        "7a751324b84f4bd788ed955ee473db65": {
          "model_module": "@jupyter-widgets/controls",
          "model_name": "DescriptionStyleModel",
          "model_module_version": "1.5.0",
          "state": {
            "_model_module": "@jupyter-widgets/controls",
            "_model_module_version": "1.5.0",
            "_model_name": "DescriptionStyleModel",
            "_view_count": null,
            "_view_module": "@jupyter-widgets/base",
            "_view_module_version": "1.2.0",
            "_view_name": "StyleView",
            "description_width": ""
          }
        },
        "bb2221a7f5c24105be9976de9fa0f5b0": {
          "model_module": "@jupyter-widgets/base",
          "model_name": "LayoutModel",
          "model_module_version": "1.2.0",
          "state": {
            "_model_module": "@jupyter-widgets/base",
            "_model_module_version": "1.2.0",
            "_model_name": "LayoutModel",
            "_view_count": null,
            "_view_module": "@jupyter-widgets/base",
            "_view_module_version": "1.2.0",
            "_view_name": "LayoutView",
            "align_content": null,
            "align_items": null,
            "align_self": null,
            "border": null,
            "bottom": null,
            "display": null,
            "flex": null,
            "flex_flow": null,
            "grid_area": null,
            "grid_auto_columns": null,
            "grid_auto_flow": null,
            "grid_auto_rows": null,
            "grid_column": null,
            "grid_gap": null,
            "grid_row": null,
            "grid_template_areas": null,
            "grid_template_columns": null,
            "grid_template_rows": null,
            "height": null,
            "justify_content": null,
            "justify_items": null,
            "left": null,
            "margin": null,
            "max_height": null,
            "max_width": null,
            "min_height": null,
            "min_width": null,
            "object_fit": null,
            "object_position": null,
            "order": null,
            "overflow": null,
            "overflow_x": null,
            "overflow_y": null,
            "padding": null,
            "right": null,
            "top": null,
            "visibility": null,
            "width": null
          }
        },
        "3f00323b0da04cc2a4646dc8b1fd6cd5": {
          "model_module": "@jupyter-widgets/controls",
          "model_name": "ProgressStyleModel",
          "model_module_version": "1.5.0",
          "state": {
            "_model_module": "@jupyter-widgets/controls",
            "_model_module_version": "1.5.0",
            "_model_name": "ProgressStyleModel",
            "_view_count": null,
            "_view_module": "@jupyter-widgets/base",
            "_view_module_version": "1.2.0",
            "_view_name": "StyleView",
            "bar_color": null,
            "description_width": ""
          }
        },
        "ebfde025e5c64a2a993c3d32222c487c": {
          "model_module": "@jupyter-widgets/base",
          "model_name": "LayoutModel",
          "model_module_version": "1.2.0",
          "state": {
            "_model_module": "@jupyter-widgets/base",
            "_model_module_version": "1.2.0",
            "_model_name": "LayoutModel",
            "_view_count": null,
            "_view_module": "@jupyter-widgets/base",
            "_view_module_version": "1.2.0",
            "_view_name": "LayoutView",
            "align_content": null,
            "align_items": null,
            "align_self": null,
            "border": null,
            "bottom": null,
            "display": null,
            "flex": null,
            "flex_flow": null,
            "grid_area": null,
            "grid_auto_columns": null,
            "grid_auto_flow": null,
            "grid_auto_rows": null,
            "grid_column": null,
            "grid_gap": null,
            "grid_row": null,
            "grid_template_areas": null,
            "grid_template_columns": null,
            "grid_template_rows": null,
            "height": null,
            "justify_content": null,
            "justify_items": null,
            "left": null,
            "margin": null,
            "max_height": null,
            "max_width": null,
            "min_height": null,
            "min_width": null,
            "object_fit": null,
            "object_position": null,
            "order": null,
            "overflow": null,
            "overflow_x": null,
            "overflow_y": null,
            "padding": null,
            "right": null,
            "top": null,
            "visibility": null,
            "width": null
          }
        },
        "d11ccb85539b49bfbfa44edcd6a6cca2": {
          "model_module": "@jupyter-widgets/controls",
          "model_name": "DescriptionStyleModel",
          "model_module_version": "1.5.0",
          "state": {
            "_model_module": "@jupyter-widgets/controls",
            "_model_module_version": "1.5.0",
            "_model_name": "DescriptionStyleModel",
            "_view_count": null,
            "_view_module": "@jupyter-widgets/base",
            "_view_module_version": "1.2.0",
            "_view_name": "StyleView",
            "description_width": ""
          }
        },
        "1185ef2d46094935b2cb52b77b4e496e": {
          "model_module": "@jupyter-widgets/controls",
          "model_name": "HBoxModel",
          "model_module_version": "1.5.0",
          "state": {
            "_dom_classes": [],
            "_model_module": "@jupyter-widgets/controls",
            "_model_module_version": "1.5.0",
            "_model_name": "HBoxModel",
            "_view_count": null,
            "_view_module": "@jupyter-widgets/controls",
            "_view_module_version": "1.5.0",
            "_view_name": "HBoxView",
            "box_style": "",
            "children": [
              "IPY_MODEL_0e2206d1d4664504868962c1d24ce92a",
              "IPY_MODEL_0c58a13ca56f46d2af88a7faa269c3c4",
              "IPY_MODEL_0f1414af2bbe4ece9ca4c5cdd8421dea"
            ],
            "layout": "IPY_MODEL_d56b6bca916c4093a3fd6734ee0630e9"
          }
        },
        "0e2206d1d4664504868962c1d24ce92a": {
          "model_module": "@jupyter-widgets/controls",
          "model_name": "HTMLModel",
          "model_module_version": "1.5.0",
          "state": {
            "_dom_classes": [],
            "_model_module": "@jupyter-widgets/controls",
            "_model_module_version": "1.5.0",
            "_model_name": "HTMLModel",
            "_view_count": null,
            "_view_module": "@jupyter-widgets/controls",
            "_view_module_version": "1.5.0",
            "_view_name": "HTMLView",
            "description": "",
            "description_tooltip": null,
            "layout": "IPY_MODEL_fbee3ef4e4df4ea7bb253f12ba81ed29",
            "placeholder": "​",
            "style": "IPY_MODEL_0c2d66b4c3c44c2fb4438e744b7d003e",
            "value": "Drawing 10000 posterior samples: 100%"
          }
        },
        "0c58a13ca56f46d2af88a7faa269c3c4": {
          "model_module": "@jupyter-widgets/controls",
          "model_name": "FloatProgressModel",
          "model_module_version": "1.5.0",
          "state": {
            "_dom_classes": [],
            "_model_module": "@jupyter-widgets/controls",
            "_model_module_version": "1.5.0",
            "_model_name": "FloatProgressModel",
            "_view_count": null,
            "_view_module": "@jupyter-widgets/controls",
            "_view_module_version": "1.5.0",
            "_view_name": "ProgressView",
            "bar_style": "success",
            "description": "",
            "description_tooltip": null,
            "layout": "IPY_MODEL_17cd47ba6a5147ffb8493e384792fbd3",
            "max": 10000,
            "min": 0,
            "orientation": "horizontal",
            "style": "IPY_MODEL_0020f903fca74d51882596001da4b971",
            "value": 10000
          }
        },
        "0f1414af2bbe4ece9ca4c5cdd8421dea": {
          "model_module": "@jupyter-widgets/controls",
          "model_name": "HTMLModel",
          "model_module_version": "1.5.0",
          "state": {
            "_dom_classes": [],
            "_model_module": "@jupyter-widgets/controls",
            "_model_module_version": "1.5.0",
            "_model_name": "HTMLModel",
            "_view_count": null,
            "_view_module": "@jupyter-widgets/controls",
            "_view_module_version": "1.5.0",
            "_view_name": "HTMLView",
            "description": "",
            "description_tooltip": null,
            "layout": "IPY_MODEL_6121110c74f940a2b399967a59f1f5d9",
            "placeholder": "​",
            "style": "IPY_MODEL_ecf8610a64144e9685c6b1bcb2d06592",
            "value": " 10000/10000 [00:00&lt;00:00, 222228.91it/s]"
          }
        },
        "d56b6bca916c4093a3fd6734ee0630e9": {
          "model_module": "@jupyter-widgets/base",
          "model_name": "LayoutModel",
          "model_module_version": "1.2.0",
          "state": {
            "_model_module": "@jupyter-widgets/base",
            "_model_module_version": "1.2.0",
            "_model_name": "LayoutModel",
            "_view_count": null,
            "_view_module": "@jupyter-widgets/base",
            "_view_module_version": "1.2.0",
            "_view_name": "LayoutView",
            "align_content": null,
            "align_items": null,
            "align_self": null,
            "border": null,
            "bottom": null,
            "display": null,
            "flex": null,
            "flex_flow": null,
            "grid_area": null,
            "grid_auto_columns": null,
            "grid_auto_flow": null,
            "grid_auto_rows": null,
            "grid_column": null,
            "grid_gap": null,
            "grid_row": null,
            "grid_template_areas": null,
            "grid_template_columns": null,
            "grid_template_rows": null,
            "height": null,
            "justify_content": null,
            "justify_items": null,
            "left": null,
            "margin": null,
            "max_height": null,
            "max_width": null,
            "min_height": null,
            "min_width": null,
            "object_fit": null,
            "object_position": null,
            "order": null,
            "overflow": null,
            "overflow_x": null,
            "overflow_y": null,
            "padding": null,
            "right": null,
            "top": null,
            "visibility": null,
            "width": null
          }
        },
        "fbee3ef4e4df4ea7bb253f12ba81ed29": {
          "model_module": "@jupyter-widgets/base",
          "model_name": "LayoutModel",
          "model_module_version": "1.2.0",
          "state": {
            "_model_module": "@jupyter-widgets/base",
            "_model_module_version": "1.2.0",
            "_model_name": "LayoutModel",
            "_view_count": null,
            "_view_module": "@jupyter-widgets/base",
            "_view_module_version": "1.2.0",
            "_view_name": "LayoutView",
            "align_content": null,
            "align_items": null,
            "align_self": null,
            "border": null,
            "bottom": null,
            "display": null,
            "flex": null,
            "flex_flow": null,
            "grid_area": null,
            "grid_auto_columns": null,
            "grid_auto_flow": null,
            "grid_auto_rows": null,
            "grid_column": null,
            "grid_gap": null,
            "grid_row": null,
            "grid_template_areas": null,
            "grid_template_columns": null,
            "grid_template_rows": null,
            "height": null,
            "justify_content": null,
            "justify_items": null,
            "left": null,
            "margin": null,
            "max_height": null,
            "max_width": null,
            "min_height": null,
            "min_width": null,
            "object_fit": null,
            "object_position": null,
            "order": null,
            "overflow": null,
            "overflow_x": null,
            "overflow_y": null,
            "padding": null,
            "right": null,
            "top": null,
            "visibility": null,
            "width": null
          }
        },
        "0c2d66b4c3c44c2fb4438e744b7d003e": {
          "model_module": "@jupyter-widgets/controls",
          "model_name": "DescriptionStyleModel",
          "model_module_version": "1.5.0",
          "state": {
            "_model_module": "@jupyter-widgets/controls",
            "_model_module_version": "1.5.0",
            "_model_name": "DescriptionStyleModel",
            "_view_count": null,
            "_view_module": "@jupyter-widgets/base",
            "_view_module_version": "1.2.0",
            "_view_name": "StyleView",
            "description_width": ""
          }
        },
        "17cd47ba6a5147ffb8493e384792fbd3": {
          "model_module": "@jupyter-widgets/base",
          "model_name": "LayoutModel",
          "model_module_version": "1.2.0",
          "state": {
            "_model_module": "@jupyter-widgets/base",
            "_model_module_version": "1.2.0",
            "_model_name": "LayoutModel",
            "_view_count": null,
            "_view_module": "@jupyter-widgets/base",
            "_view_module_version": "1.2.0",
            "_view_name": "LayoutView",
            "align_content": null,
            "align_items": null,
            "align_self": null,
            "border": null,
            "bottom": null,
            "display": null,
            "flex": null,
            "flex_flow": null,
            "grid_area": null,
            "grid_auto_columns": null,
            "grid_auto_flow": null,
            "grid_auto_rows": null,
            "grid_column": null,
            "grid_gap": null,
            "grid_row": null,
            "grid_template_areas": null,
            "grid_template_columns": null,
            "grid_template_rows": null,
            "height": null,
            "justify_content": null,
            "justify_items": null,
            "left": null,
            "margin": null,
            "max_height": null,
            "max_width": null,
            "min_height": null,
            "min_width": null,
            "object_fit": null,
            "object_position": null,
            "order": null,
            "overflow": null,
            "overflow_x": null,
            "overflow_y": null,
            "padding": null,
            "right": null,
            "top": null,
            "visibility": null,
            "width": null
          }
        },
        "0020f903fca74d51882596001da4b971": {
          "model_module": "@jupyter-widgets/controls",
          "model_name": "ProgressStyleModel",
          "model_module_version": "1.5.0",
          "state": {
            "_model_module": "@jupyter-widgets/controls",
            "_model_module_version": "1.5.0",
            "_model_name": "ProgressStyleModel",
            "_view_count": null,
            "_view_module": "@jupyter-widgets/base",
            "_view_module_version": "1.2.0",
            "_view_name": "StyleView",
            "bar_color": null,
            "description_width": ""
          }
        },
        "6121110c74f940a2b399967a59f1f5d9": {
          "model_module": "@jupyter-widgets/base",
          "model_name": "LayoutModel",
          "model_module_version": "1.2.0",
          "state": {
            "_model_module": "@jupyter-widgets/base",
            "_model_module_version": "1.2.0",
            "_model_name": "LayoutModel",
            "_view_count": null,
            "_view_module": "@jupyter-widgets/base",
            "_view_module_version": "1.2.0",
            "_view_name": "LayoutView",
            "align_content": null,
            "align_items": null,
            "align_self": null,
            "border": null,
            "bottom": null,
            "display": null,
            "flex": null,
            "flex_flow": null,
            "grid_area": null,
            "grid_auto_columns": null,
            "grid_auto_flow": null,
            "grid_auto_rows": null,
            "grid_column": null,
            "grid_gap": null,
            "grid_row": null,
            "grid_template_areas": null,
            "grid_template_columns": null,
            "grid_template_rows": null,
            "height": null,
            "justify_content": null,
            "justify_items": null,
            "left": null,
            "margin": null,
            "max_height": null,
            "max_width": null,
            "min_height": null,
            "min_width": null,
            "object_fit": null,
            "object_position": null,
            "order": null,
            "overflow": null,
            "overflow_x": null,
            "overflow_y": null,
            "padding": null,
            "right": null,
            "top": null,
            "visibility": null,
            "width": null
          }
        },
        "ecf8610a64144e9685c6b1bcb2d06592": {
          "model_module": "@jupyter-widgets/controls",
          "model_name": "DescriptionStyleModel",
          "model_module_version": "1.5.0",
          "state": {
            "_model_module": "@jupyter-widgets/controls",
            "_model_module_version": "1.5.0",
            "_model_name": "DescriptionStyleModel",
            "_view_count": null,
            "_view_module": "@jupyter-widgets/base",
            "_view_module_version": "1.2.0",
            "_view_name": "StyleView",
            "description_width": ""
          }
        }
      }
    }
  },
  "cells": [
    {
      "cell_type": "markdown",
      "metadata": {
        "id": "view-in-github",
        "colab_type": "text"
      },
      "source": [
        "<a href=\"https://colab.research.google.com/github/samueldmcdermott/samueldmcdermott.github.io/blob/master/SBIGalaxyClusterMass-sdm.ipynb\" target=\"_parent\"><img src=\"https://colab.research.google.com/assets/colab-badge.svg\" alt=\"Open In Colab\"/></a>"
      ]
    },
    {
      "cell_type": "markdown",
      "source": [
        "# Simulation Based Inference approach to Galaxy Cluster Mass Estimation\n",
        "## 2022 AI + Science Summer School, University of Chicago\n",
        "## Instructor: Camille Avestruz (UMich)\n",
        "\n",
        "tinyurl: https://tinyurl.com/sbicltutorial\n",
        "\n",
        "\n",
        "Based on ongoing analysis done by Erin Barillier (UMich), Humna Awan (UMich), Moonzarin Reza (Texas AMU), Yuanyuan Zhang (Texas AMU), and others in the Dark Energy Science Collaboration of the Rubin Observatory's [Legacy Survey of Space and Time](https://www.lsst.org/about).\n",
        "\n",
        "Note, for another tutorial on SBI from which the SBI background in this tutorial is based, see [this link](https://astroautomata.com/blog/simulation-based-inference/).  For an overview of SBI see [here, Cranmer+2020](https://www.pnas.org/doi/10.1073/pnas.1912789117).\n",
        "\n",
        "For a review on galaxy cluster cosmology, see [Allen+2011](https://arxiv.org/abs/1103.4829).\n",
        "\n",
        "For a review on a wide review of observational cosmology, see [Weinberg+2012](https://arxiv.org/abs/1201.2434).\n",
        "\n",
        "For a review on galaxy cluster simulations and astrophysics, see [Kravtsov and Borgani 2012](https://arxiv.org/abs/1205.5556)"
      ],
      "metadata": {
        "id": "eA1X4wfk_P-V"
      }
    },
    {
      "cell_type": "code",
      "execution_count": null,
      "metadata": {
        "id": "JQwQotRg-_h6"
      },
      "outputs": [],
      "source": [
        "import numpy as np\n",
        "from matplotlib import pyplot as plt"
      ]
    },
    {
      "cell_type": "code",
      "source": [
        "!pip install sbi"
      ],
      "metadata": {
        "colab": {
          "base_uri": "https://localhost:8080/"
        },
        "id": "R8lsY9dTKQ5C",
        "outputId": "99c898e8-356a-4f0e-cdf8-9f59a59d0271"
      },
      "execution_count": null,
      "outputs": [
        {
          "output_type": "stream",
          "name": "stdout",
          "text": [
            "Looking in indexes: https://pypi.org/simple, https://us-python.pkg.dev/colab-wheels/public/simple/\n",
            "Requirement already satisfied: sbi in /usr/local/lib/python3.7/site-packages (0.18.0)\n",
            "Requirement already satisfied: scikit-learn in /usr/local/lib/python3.7/site-packages (from sbi) (1.0.2)\n",
            "Requirement already satisfied: joblib>=1.0.0 in /usr/local/lib/python3.7/site-packages (from sbi) (1.1.0)\n",
            "Requirement already satisfied: pyknos>=0.14.2 in /usr/local/lib/python3.7/site-packages (from sbi) (0.14.2)\n",
            "Requirement already satisfied: pyro-ppl>=1.3.1 in /usr/local/lib/python3.7/site-packages (from sbi) (1.8.1)\n",
            "Requirement already satisfied: pillow in /usr/local/lib/python3.7/site-packages (from sbi) (9.2.0)\n",
            "Requirement already satisfied: tqdm in /usr/local/lib/python3.7/site-packages (from sbi) (4.59.0)\n",
            "Requirement already satisfied: scipy in /usr/local/lib/python3.7/site-packages (from sbi) (1.7.3)\n",
            "Requirement already satisfied: matplotlib in /usr/local/lib/python3.7/site-packages (from sbi) (3.5.2)\n",
            "Requirement already satisfied: tensorboard in /usr/local/lib/python3.7/site-packages (from sbi) (2.9.1)\n",
            "Requirement already satisfied: numpy in /usr/local/lib/python3.7/site-packages (from sbi) (1.21.6)\n",
            "Requirement already satisfied: torch>=1.8.0 in /usr/local/lib/python3.7/site-packages (from sbi) (1.12.1)\n",
            "Requirement already satisfied: nflows==0.14 in /usr/local/lib/python3.7/site-packages (from pyknos>=0.14.2->sbi) (0.14)\n",
            "Requirement already satisfied: opt-einsum>=2.3.2 in /usr/local/lib/python3.7/site-packages (from pyro-ppl>=1.3.1->sbi) (3.3.0)\n",
            "Requirement already satisfied: pyro-api>=0.1.1 in /usr/local/lib/python3.7/site-packages (from pyro-ppl>=1.3.1->sbi) (0.1.2)\n",
            "Requirement already satisfied: typing-extensions in /usr/local/lib/python3.7/site-packages (from torch>=1.8.0->sbi) (4.3.0)\n",
            "Requirement already satisfied: cycler>=0.10 in /usr/local/lib/python3.7/site-packages (from matplotlib->sbi) (0.11.0)\n",
            "Requirement already satisfied: python-dateutil>=2.7 in /usr/local/lib/python3.7/site-packages (from matplotlib->sbi) (2.8.2)\n",
            "Requirement already satisfied: pyparsing>=2.2.1 in /usr/local/lib/python3.7/site-packages (from matplotlib->sbi) (3.0.9)\n",
            "Requirement already satisfied: kiwisolver>=1.0.1 in /usr/local/lib/python3.7/site-packages (from matplotlib->sbi) (1.4.4)\n",
            "Requirement already satisfied: packaging>=20.0 in /usr/local/lib/python3.7/site-packages (from matplotlib->sbi) (21.3)\n",
            "Requirement already satisfied: fonttools>=4.22.0 in /usr/local/lib/python3.7/site-packages (from matplotlib->sbi) (4.34.4)\n",
            "Requirement already satisfied: six>=1.5 in /usr/local/lib/python3.7/site-packages (from python-dateutil>=2.7->matplotlib->sbi) (1.15.0)\n",
            "Requirement already satisfied: threadpoolctl>=2.0.0 in /usr/local/lib/python3.7/site-packages (from scikit-learn->sbi) (3.1.0)\n",
            "Requirement already satisfied: wheel>=0.26 in /usr/local/lib/python3.7/site-packages (from tensorboard->sbi) (0.36.2)\n",
            "Requirement already satisfied: google-auth<3,>=1.6.3 in /usr/local/lib/python3.7/site-packages (from tensorboard->sbi) (2.10.0)\n",
            "Requirement already satisfied: grpcio>=1.24.3 in /usr/local/lib/python3.7/site-packages (from tensorboard->sbi) (1.47.0)\n",
            "Requirement already satisfied: requests<3,>=2.21.0 in /usr/local/lib/python3.7/site-packages (from tensorboard->sbi) (2.25.1)\n",
            "Requirement already satisfied: tensorboard-data-server<0.7.0,>=0.6.0 in /usr/local/lib/python3.7/site-packages (from tensorboard->sbi) (0.6.1)\n",
            "Requirement already satisfied: protobuf<3.20,>=3.9.2 in /usr/local/lib/python3.7/site-packages (from tensorboard->sbi) (3.19.4)\n",
            "Requirement already satisfied: setuptools>=41.0.0 in /usr/local/lib/python3.7/site-packages (from tensorboard->sbi) (49.6.0.post20210108)\n",
            "Requirement already satisfied: google-auth-oauthlib<0.5,>=0.4.1 in /usr/local/lib/python3.7/site-packages (from tensorboard->sbi) (0.4.6)\n",
            "Requirement already satisfied: werkzeug>=1.0.1 in /usr/local/lib/python3.7/site-packages (from tensorboard->sbi) (2.2.1)\n",
            "Requirement already satisfied: absl-py>=0.4 in /usr/local/lib/python3.7/site-packages (from tensorboard->sbi) (1.2.0)\n",
            "Requirement already satisfied: markdown>=2.6.8 in /usr/local/lib/python3.7/site-packages (from tensorboard->sbi) (3.4.1)\n",
            "Requirement already satisfied: tensorboard-plugin-wit>=1.6.0 in /usr/local/lib/python3.7/site-packages (from tensorboard->sbi) (1.8.1)\n",
            "Requirement already satisfied: rsa<5,>=3.1.4 in /usr/local/lib/python3.7/site-packages (from google-auth<3,>=1.6.3->tensorboard->sbi) (4.9)\n",
            "Requirement already satisfied: cachetools<6.0,>=2.0.0 in /usr/local/lib/python3.7/site-packages (from google-auth<3,>=1.6.3->tensorboard->sbi) (5.2.0)\n",
            "Requirement already satisfied: pyasn1-modules>=0.2.1 in /usr/local/lib/python3.7/site-packages (from google-auth<3,>=1.6.3->tensorboard->sbi) (0.2.8)\n",
            "Requirement already satisfied: requests-oauthlib>=0.7.0 in /usr/local/lib/python3.7/site-packages (from google-auth-oauthlib<0.5,>=0.4.1->tensorboard->sbi) (1.3.1)\n",
            "Requirement already satisfied: importlib-metadata>=4.4 in /usr/local/lib/python3.7/site-packages (from markdown>=2.6.8->tensorboard->sbi) (4.12.0)\n",
            "Requirement already satisfied: zipp>=0.5 in /usr/local/lib/python3.7/site-packages (from importlib-metadata>=4.4->markdown>=2.6.8->tensorboard->sbi) (3.8.1)\n",
            "Requirement already satisfied: pyasn1<0.5.0,>=0.4.6 in /usr/local/lib/python3.7/site-packages (from pyasn1-modules>=0.2.1->google-auth<3,>=1.6.3->tensorboard->sbi) (0.4.8)\n",
            "Requirement already satisfied: idna<3,>=2.5 in /usr/local/lib/python3.7/site-packages (from requests<3,>=2.21.0->tensorboard->sbi) (2.10)\n",
            "Requirement already satisfied: urllib3<1.27,>=1.21.1 in /usr/local/lib/python3.7/site-packages (from requests<3,>=2.21.0->tensorboard->sbi) (1.26.3)\n",
            "Requirement already satisfied: chardet<5,>=3.0.2 in /usr/local/lib/python3.7/site-packages (from requests<3,>=2.21.0->tensorboard->sbi) (4.0.0)\n",
            "Requirement already satisfied: certifi>=2017.4.17 in /usr/local/lib/python3.7/site-packages (from requests<3,>=2.21.0->tensorboard->sbi) (2020.12.5)\n",
            "Requirement already satisfied: oauthlib>=3.0.0 in /usr/local/lib/python3.7/site-packages (from requests-oauthlib>=0.7.0->google-auth-oauthlib<0.5,>=0.4.1->tensorboard->sbi) (3.2.0)\n",
            "Requirement already satisfied: MarkupSafe>=2.1.1 in /usr/local/lib/python3.7/site-packages (from werkzeug>=1.0.1->tensorboard->sbi) (2.1.1)\n"
          ]
        }
      ]
    },
    {
      "cell_type": "markdown",
      "source": [
        "Below, we import relevant libraries to calculate a mass posterior using Simulation Based Inference. SBI code and more extensive demos [here](https://github.com/mackelab/sbi).\n",
        "\n",
        "Note, `PyTorch` is used as the backend for `sbi`."
      ],
      "metadata": {
        "id": "FuTQt-bVJ4NX"
      }
    },
    {
      "cell_type": "code",
      "source": [
        "import torch\n",
        "from torch import zeros, ones\n",
        "import sbi\n",
        "import sbi.utils as utils\n",
        "from sbi.utils import BoxUniform\n",
        "from sbi.inference import prepare_for_sbi, simulate_for_sbi, SNPE, SNLE, SNRE\n",
        "from sbi.analysis import pairplot"
      ],
      "metadata": {
        "id": "9Fhh71dFJxBA"
      },
      "execution_count": null,
      "outputs": []
    },
    {
      "cell_type": "markdown",
      "source": [
        "We will now install [colossus](https://bdiemer.bitbucket.io/colossus/), a python toolkit for calculations relevant for cosmology, the large-scale structure of the universe, and the properties of dark matter halos. The name is an acronym for COsmology, haLO and large-Scale StrUcture toolS.  We will mainly use functionality focused on dark matter halos.  (Fun fact: The main author of colossus is UofChicago alum, Benedikt Diemer, UofC Astronomy and Astrophysics PhD, 2015.)"
      ],
      "metadata": {
        "id": "ohDN4yaqAZjO"
      }
    },
    {
      "cell_type": "code",
      "source": [
        "!pip install colossus"
      ],
      "metadata": {
        "colab": {
          "base_uri": "https://localhost:8080/"
        },
        "id": "V4MVxIpiIGWN",
        "outputId": "1a7e4f72-1cbe-4c7e-c23b-3b18202ada1a"
      },
      "execution_count": null,
      "outputs": [
        {
          "output_type": "stream",
          "name": "stdout",
          "text": [
            "Looking in indexes: https://pypi.org/simple, https://us-python.pkg.dev/colab-wheels/public/simple/\n",
            "Requirement already satisfied: colossus in /usr/local/lib/python3.7/site-packages (1.3.1)\n"
          ]
        }
      ]
    },
    {
      "cell_type": "markdown",
      "source": [
        "## Generate idealized models of the mass distribution underlying galaxy clusters\n",
        "\n",
        "- Create an azimuthally symmetric model of the mass distribution with an [NFW profile](https://en.wikipedia.org/wiki/Navarro%E2%80%93Frenk%E2%80%93White_profile)\n",
        "- Visualize the mass distribution of halos (in which luminous galaxies and galaxy clusters sit), with the [halo mass function](https://en.wikipedia.org/wiki/Halo_mass_function)\n",
        "- Look at the theoretical relationship between the parameters of the NFW profile, the concentration-mass relation. \n",
        "- Create \"simulated data\" for the SBI."
      ],
      "metadata": {
        "id": "BUsC76QqJTwc"
      }
    },
    {
      "cell_type": "markdown",
      "source": [
        "The distribution of matter (both dark and light) depends on cosmology.  This generally means a model that can predict the contents and history of our universe.  We have a \"standard model\" of cosmology, which can be describe with a set of parameters that can be constrained with data.  To use colossus objects, we will first define a cosmology based on [Planck 2018 data](https://arxiv.org/abs/1807.06205) from the Cosmic Microwave Background (see CMB map below).\n",
        "<img src=https://www.esa.int/var/esa/storage/images/esa_multimedia/images/2013/03/planck_cmb/12583930-4-eng-GB/Planck_CMB_pillars.jpg width=\"500\">"
      ],
      "metadata": {
        "id": "Y-U7q37eL306"
      }
    },
    {
      "cell_type": "code",
      "source": [
        "# First, define a cosmology\n",
        "from colossus.cosmology import cosmology\n",
        "cosmo = cosmology.setCosmology('planck18')"
      ],
      "metadata": {
        "id": "hdjnxxxTLxU0"
      },
      "execution_count": null,
      "outputs": []
    },
    {
      "cell_type": "markdown",
      "source": [
        "### Halo mass function\n",
        "\n",
        "The number of objects as a function of their mass and time changes with cosmology.  We want to be able to measure this as well as we can.  Below, we illustrate the halo mass function for two different cosmologies from [Vikhlinin+09](https://ui.adsabs.harvard.edu/abs/2009ApJ...692.1060V/abstract).  Here, the cosmological parameter describing the energy density of matter stays teh same, and the parameter describing the energy density of dark energy (responsible for the accelerated expansion of the universe) changes.  \n",
        "\n",
        "**Note and fun exercise for when you get home**, you can use colossus to create your own mass functions for different cosmologies.  \n",
        "\n",
        "![](data:image/png;base64,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)"
      ],
      "metadata": {
        "id": "qhKqZN8zLXGc"
      }
    },
    {
      "cell_type": "code",
      "source": [
        "# Exercise for home:  Look over the colossus documentation, and plot a halo mass function for different cosmological models\n",
        "\n",
        "### Space to play here ###"
      ],
      "metadata": {
        "id": "GEeNc6I1abgQ"
      },
      "execution_count": null,
      "outputs": []
    },
    {
      "cell_type": "markdown",
      "source": [
        "## Dark matter halos\n",
        "\n",
        "Most of the mass in our universe is in the form of non-luminous [dark matter](https://en.wikipedia.org/wiki/Dark_matter), a weakly interacting substance that we have largely inferred from dynamics.  Dark matter halos are gravitationally collapsed objects, in which luminous galaxies and galaxy clusters sit (see cartoon of Milky Way galaxy in its dark matter halo below).  Their abundance and evolution traces cosmology  (as seen above).  We can model the mass distribution of a single dark matter halo with an NFW profile, with two physical parameters: mass enclosed and concentration (peakiness). \n",
        "\n",
        "<img src=https://stsci-opo.org/STScI-01EVT45FFZGVBCBG2YS9B7P874.jpg width=\"500\">\n",
        "<img src=https://upload.wikimedia.org/wikipedia/commons/thumb/5/5d/Comparison_of_NFW_and_Einasto_profiles.svg/1024px-Comparison_of_NFW_and_Einasto_profiles.svg.png width=\"500\">"
      ],
      "metadata": {
        "id": "8vA5TiaGNSgp"
      }
    },
    {
      "cell_type": "code",
      "source": [
        "# Create an NFW profile\n",
        "from colossus.halo import profile_nfw\n",
        "\n",
        "def simulate_nfw(log10mass, concentration) :\n",
        "  '''\n",
        "  Simulate an NFW profile at the present day (z=0), with mass and concentration \n",
        "  defined with respect to the virial radius \n",
        "  '''\n",
        "  return profile_nfw.NFWProfile(M = 10**log10mass, c = concentration, z = 0.0, mdef = 'vir')"
      ],
      "metadata": {
        "id": "RMNrgAmUIOqS"
      },
      "execution_count": null,
      "outputs": []
    },
    {
      "cell_type": "markdown",
      "source": [
        "Below, we plot example profiles at redshift 0 (present day) with different masses and concentrations, and normalize by the mean density of the universe today.\n",
        "\n"
      ],
      "metadata": {
        "id": "T5lrwCZKPsKm"
      }
    },
    {
      "cell_type": "code",
      "source": [
        "# Plot an example profile\n",
        "\n",
        "radius = 10**np.arange(0,3,0.1)\n",
        "rho_m = cosmo.rho_m(0)\n",
        "rho_nfwm14c4 = simulate_nfw(log10mass=14, concentration=4).density(radius)\n",
        "rho_nfwm15c4 = simulate_nfw(log10mass=15, concentration=4).density(radius)\n",
        "rho_nfwm15c5 = simulate_nfw(log10mass=15, concentration=5).density(radius)\n",
        "\n",
        "\n",
        "plt.figure()\n",
        "plt.loglog()\n",
        "plt.xlabel('radius [kpc/h]', fontsize='xx-large')\n",
        "plt.ylabel('Density profile [$\\\\rho/\\\\rho_m$]', fontsize='xx-large')\n",
        "plt.plot(radius, rho_nfwm15c5 / rho_m, '-', label = 'NFW, log$_{10}$M=15, c=5')\n",
        "plt.plot(radius, rho_nfwm15c4 / rho_m, ':', label = 'NFW, log$_{10}$M=15, c=4')\n",
        "plt.plot(radius, rho_nfwm14c4 / rho_m, '-', label = 'NFW, log$_{10}$M=14, c=4')\n",
        "plt.legend(fontsize='xx-large');"
      ],
      "metadata": {
        "colab": {
          "base_uri": "https://localhost:8080/",
          "height": 291
        },
        "id": "oDyZ3kD2Peht",
        "outputId": "b830ce6f-58e0-450b-e0e3-820c33941e4f"
      },
      "execution_count": null,
      "outputs": [
        {
          "output_type": "display_data",
          "data": {
            "text/plain": [
              "<Figure size 432x288 with 1 Axes>"
            ],
            "image/png": "[encoded data removed]"
          },
          "metadata": {
            "needs_background": "light"
          }
        }
      ]
    },
    {
      "cell_type": "markdown",
      "source": [
        "Note, we have just plotted a theoretical model for the mass distribution of massive halos corresponding to the hosts of galaxy clusters at the present day.  But, galaxy clusters are *not* spherical cows, and we cannot directly measure their mass distribution.  What really happens, is that we have to *infer* their masses based on some observable.  While we have plotted predictions of the density profile, one way to observe and infer the mass of these objects is through gravitational lensing.  \n",
        "\n",
        "<img src=https://upload.wikimedia.org/wikipedia/commons/thumb/9/9c/Shapenoise.svg/800px-Shapenoise.svg.png size=\"500\">\n",
        "\n",
        "We measure the distortions of background galaxies due to the mass of a galaxy cluster that bends light, acting as a lens. You may have seen some of the most recent images of a galaxy cluster from JWST:\n",
        "\n",
        "<img src=http://www.nasa.gov/sites/default/files/thumbnails/image/main_image_deep_field_smacs0723-5mb.jpg size=\"500\">"
      ],
      "metadata": {
        "id": "SIKe42wsa09y"
      }
    },
    {
      "cell_type": "markdown",
      "source": [
        "**Concentration of an NFW profile** Let us now look at a theoretical prediction for how concentration and mass are related to one another on average.  We expect these to be related to one another because more massive objects take longer to form, as less massive objects must merge into one another to gather more and more mass.  This is known as hierarchical structure formation.  Earlier in the universe, there was the same amount of mass, but a smaller volume (we are expanding at an accelerated rate!); the universe was denser at earlier times leading to earlier formed objects having higher concentrations.  We expect an (on average) monotonic relationship between concentration and mass."
      ],
      "metadata": {
        "id": "Pj4lwrGyTZNH"
      }
    },
    {
      "cell_type": "code",
      "source": [
        "# Define the theoretical concentration mass relationship from colossus\n",
        "from colossus.halo import concentration\n",
        "\n",
        "def get_concentration(log10mass) :\n",
        "  '''\n",
        "  Return the concentration for a halo of a given mass assuming a model of child18\n",
        "  at the present day (redshift 0.0), defined with respect to the virial radius. \n",
        "  '''\n",
        "\n",
        "  return concentration.concentration(10**log10mass, 'vir', 0.0, model = 'child18')"
      ],
      "metadata": {
        "id": "33v9LQOsR45i"
      },
      "execution_count": null,
      "outputs": []
    },
    {
      "cell_type": "markdown",
      "source": [
        "Now, we plot the concentration mass relationship across the range of galaxy cluster masses (galaxy groups are roughly 1e13 M$_\\odot$, and the most massive clusters are roughly 1e15 M$_\\odot$).  We have assumed the theoretical relationship measured from numerical simulations in [Child+2019](https://arxiv.org/pdf/1804.10199.pdf).  But, this is an *on-average* relationship.  We assume some scatter about the relation for slightly more \"realistic\" objects."
      ],
      "metadata": {
        "id": "vqryt1mAVPIp"
      }
    },
    {
      "cell_type": "code",
      "source": [
        "# Plot concentration mass relationship from Child+2018\n",
        "\n",
        "cluster_log10masses = np.arange(13,15,0.1)\n",
        "\n",
        "plt.plot(cluster_log10masses, get_concentration(cluster_log10masses),label='Child+18 c-M relation')\n",
        "plt.xlabel('log$_{10}$M [M$_\\odot$]', fontsize='xx-large')\n",
        "plt.ylabel('Concentration', fontsize='xx-large')\n",
        "plt.legend(fontsize='xx-large')"
      ],
      "metadata": {
        "colab": {
          "base_uri": "https://localhost:8080/",
          "height": 308
        },
        "id": "68F3PnCeVMGq",
        "outputId": "513005d3-2d61-4a7e-9b4b-7ef7898b2a60"
      },
      "execution_count": null,
      "outputs": [
        {
          "output_type": "execute_result",
          "data": {
            "text/plain": [
              "<matplotlib.legend.Legend at 0x7f0daf546110>"
            ]
          },
          "metadata": {},
          "execution_count": 12
        },
        {
          "output_type": "display_data",
          "data": {
            "text/plain": [
              "<Figure size 432x288 with 1 Axes>"
            ],
            "image/png": "[encoded data removed]"
          },
          "metadata": {
            "needs_background": "light"
          }
        }
      ]
    },
    {
      "cell_type": "markdown",
      "source": [
        "Now, we define a sample to make \"simulations\" with.  We define 10000 masses in the range of 1e13$\\lesssim M/M_\\odot\\lesssim$1e15, and assign a concentration following the Child+19 model with some noise."
      ],
      "metadata": {
        "id": "O7ywQwp4XcZW"
      }
    },
    {
      "cell_type": "code",
      "source": [
        "# Define a mass sample with some noise, and concentration sample that scatters\n",
        "# about the theoretical prediction\n",
        "\n",
        "log10mass_sample = np.random.uniform(13,15,size=10000)\n",
        "non_noisy_concentration_sample = get_concentration(log10mass_sample)\n",
        "noisy_concentration = np.random.normal(non_noisy_concentration_sample,0.2,10000)"
      ],
      "metadata": {
        "id": "9CsR3vRcWRrJ"
      },
      "execution_count": null,
      "outputs": []
    },
    {
      "cell_type": "code",
      "source": [
        "# Plot the samples and compare with the original theory relation\n",
        "plt.scatter(log10mass_sample, noisy_concentration,s=0.2,alpha=0.2, label='Simulation Sample')\n",
        "plt.plot(cluster_log10masses, get_concentration(cluster_log10masses),label='Child+18 c-M relation')\n",
        "plt.xlabel('log$_{10}$M [M$_\\odot$]', fontsize='xx-large')\n",
        "plt.ylabel('Concentration', fontsize='xx-large')\n",
        "plt.legend(fontsize='xx-large')"
      ],
      "metadata": {
        "colab": {
          "base_uri": "https://localhost:8080/",
          "height": 308
        },
        "id": "zz-LkWfY-HiJ",
        "outputId": "b2758e0a-f07d-4bd0-bb1d-08dd2f40f8dc"
      },
      "execution_count": null,
      "outputs": [
        {
          "output_type": "execute_result",
          "data": {
            "text/plain": [
              "<matplotlib.legend.Legend at 0x7f0daf4228d0>"
            ]
          },
          "metadata": {},
          "execution_count": 14
        },
        {
          "output_type": "display_data",
          "data": {
            "text/plain": [
              "<Figure size 432x288 with 1 Axes>"
            ],
            "image/png": "[encoded data removed]"
          },
          "metadata": {
            "needs_background": "light"
          }
        }
      ]
    },
    {
      "cell_type": "markdown",
      "source": [
        "Now, let's create the corresponding NFW profiles for our sample to train our model."
      ],
      "metadata": {
        "id": "GjGaN8ys-Q8b"
      }
    },
    {
      "cell_type": "code",
      "source": [
        "# generate the simulated NFW profiles\n",
        "simulated_nfw_profiles = np.array([simulate_nfw(log10mass=log10mass, concentration=concentration).density(radius) \\\n",
        "                            for log10mass, concentration in zip(log10mass_sample, noisy_concentration)])"
      ],
      "metadata": {
        "id": "fElbRuSPZQVa"
      },
      "execution_count": null,
      "outputs": []
    },
    {
      "cell_type": "markdown",
      "source": [
        "Now we train the density estimator.  \n",
        "\n",
        "**Note on simple interface**: the SBI tutorial shows a \"simple interface\" if you have a method that can act as a simulator, where you would simply skip pre-simulating data, and can infer a posterior with the simulator method, and a prior, e.g.\n",
        "\n",
        "`parameter_posterior = infer(simulator, prior, method='SNPE', num_simulations=100)`\n",
        "\n",
        "Instead, we will: \n",
        "- use the pre-simulated NFW profiles (line above), \n",
        "- train a density estimator,\n",
        "- obtain our posterior for a new \"observation\" of a density profile to see how well we can measure its mass and concentration."
      ],
      "metadata": {
        "id": "6KqRx7xX_0PW"
      }
    },
    {
      "cell_type": "markdown",
      "source": [
        "### Use pre-simulated NFW profiles for model\n",
        "\n",
        "The task at hand is to perform inference on the parameters of the density profile of a dark matter halo ($\\theta=[$mass, concentration$]$) given observations of the dark matter profile, $x_i=\\rho_i(r)$:\n",
        "\n",
        "$$\n",
        "P(M_{vir}, c_{vir}|\\rho_i(r))\n",
        "$$\n",
        "\n",
        "Instead of relying on a likelihood function, $P(\\rho_i(r)|M_{vir}, c_{vir})$, we simulate various density profiles given a mass and concentration pair.  This is one of the inherent differences between the SBI approach, and a standard MCMC approach (in cosmology/astrophysics) for parameter estimation, which relies on constructing a likelihood.\n",
        "\n",
        "![](https://drive.google.com/uc?id=1KrtsVf_5C8n5enKsF8JS_1A32PYkfJdM)\n",
        "\n",
        "\n",
        "Note, we use a prediction of the concentration-mass relation with some noise and simulate enough (10,000 profiles) so we can measure the frequency of examples that reproduce the data. (See more info on Approximate Bayesian Computation [here](https://en.wikipedia.org/wiki/Approximate_Bayesian_computation)).\n",
        "\n",
        "Given a number of simulations, we then fit a function:\n",
        "\n",
        "$$\n",
        "P(M_{vir}, c_{vir}|\\rho_i(r))\n",
        "$$\n",
        "\n",
        "such that $\\sum_i logP(M_{vir}, c_{vir}|\\rho_i(r))$ is maximized over the data."
      ],
      "metadata": {
        "id": "fJvSncvBDr8j"
      }
    },
    {
      "cell_type": "code",
      "source": [
        "# Define our data in terms of parameters, theta, and data\n",
        "theta_np = np.array([log10mass_sample,noisy_concentration]).T\n",
        "x_np = simulated_nfw_profiles"
      ],
      "metadata": {
        "id": "c0Jspzvt-zjX"
      },
      "execution_count": null,
      "outputs": []
    },
    {
      "cell_type": "markdown",
      "source": [
        "Check that our parameters consist of 10,000 simulations of 2 parameter sets and that our data is 10,000 simulations of 30 radial bins."
      ],
      "metadata": {
        "id": "zvkkILiiIGeS"
      }
    },
    {
      "cell_type": "code",
      "source": [
        "print(np.shape(theta_np), np.shape(x_np))"
      ],
      "metadata": {
        "colab": {
          "base_uri": "https://localhost:8080/"
        },
        "id": "gvbCwjNAHqMJ",
        "outputId": "db7a14eb-77ed-4ee3-e40b-afdd1f0ded5b"
      },
      "execution_count": null,
      "outputs": [
        {
          "output_type": "stream",
          "name": "stdout",
          "text": [
            "(10000, 2) (10000, 30)\n"
          ]
        }
      ]
    },
    {
      "cell_type": "markdown",
      "source": [
        "With Simulation Based Inference, we bypass a likelihood based MCMC process.  Instead, of being given the likelihood of the NFW profile, we have only drawn samples from various NFW profiles whose mass and concentration are close to what we might expect from theory.  Those are our \"simulation\".  Alternatively, we might have written a \"simulator\" (see note on \"Simple Interface\" above).\n",
        "\n",
        "Below, we include the final required piece: a prior distribution that allows to sample sets of mass and concentration."
      ],
      "metadata": {
        "id": "okoXtGpznwss"
      }
    },
    {
      "cell_type": "code",
      "source": [
        "# Uniform prior from -20 to 20 (which encompasses possible log10 masses and concentration values)\n",
        "num_priors = np.shape(theta_np)[1]\n",
        "prior = BoxUniform(-ones(num_priors)*20, ones(num_priors)*20)"
      ],
      "metadata": {
        "id": "rBun2MpLBWCH"
      },
      "execution_count": null,
      "outputs": []
    },
    {
      "cell_type": "markdown",
      "source": [
        "Here, we make sure our data type is compatible with the `sbi` backend."
      ],
      "metadata": {
        "id": "l5Zap86uos4P"
      }
    },
    {
      "cell_type": "code",
      "source": [
        "# turn into tensors\n",
        "theta = torch.as_tensor(theta_np, dtype=torch.float32)\n",
        "x = torch.as_tensor(x_np, dtype=torch.float32)"
      ],
      "metadata": {
        "id": "Phousg38BX4m"
      },
      "execution_count": null,
      "outputs": []
    },
    {
      "cell_type": "markdown",
      "source": [
        "### Train a density estimator\n",
        "\n",
        "There are several inference algorithms available through the `sbi` package.  We will use the option Sequential Neural Posterior Estimation (SNPE) [paper link](https://arxiv.org/abs/1905.07488).  \n",
        "\n",
        "This step uses neural networks with some imposed smoothness regularization on the parameters to avoid overfitting is to ensure that $P(M_{vir}, c_{vir}|\\rho_i(r))$ is normalized.  You can then, for example, sample a Gaussian and go forward through model to sample the learned distribution. Invert the model and go backward from a sample to the compute the likelihood.\n",
        "\n",
        "Below, we use SNPE to fit the joint surface of the mass, concentration, and density profile."
      ],
      "metadata": {
        "id": "iJP_J-lzD3fw"
      }
    },
    {
      "cell_type": "code",
      "source": [
        "# Create inference object: choose method and estimator\n",
        "inferer = SNPE(prior, density_estimator=\"mdn\", device=\"cpu\")  # SNLE, SNRE are other options\n",
        "# Append training data\n",
        "inferer = inferer.append_simulations(theta, x)"
      ],
      "metadata": {
        "id": "UL34S2jxD1N1"
      },
      "execution_count": null,
      "outputs": []
    },
    {
      "cell_type": "code",
      "source": [
        "# Train  (note: Lots of training settings.)\n",
        "density_estimator = inferer.train(num_atoms=4, training_batch_size=50, \n",
        "                                  learning_rate=0.0005, validation_fraction=0.1, \n",
        "                                  stop_after_epochs=20, max_num_epochs=500, \n",
        "                                  clip_max_norm=5.0, calibration_kernel=None, \n",
        "                                  exclude_invalid_x=True, resume_training=False, \n",
        "                                  discard_prior_samples=False, use_combined_loss=False, \n",
        "                                  show_train_summary=False, dataloader_kwargs=None)  \n"
      ],
      "metadata": {
        "colab": {
          "base_uri": "https://localhost:8080/"
        },
        "id": "utgISd5hD_DD",
        "outputId": "218026b1-a7b9-4928-8351-7efc1f680ecc"
      },
      "execution_count": null,
      "outputs": [
        {
          "output_type": "stream",
          "name": "stdout",
          "text": [
            " Neural network successfully converged after 96 epochs."
          ]
        }
      ]
    },
    {
      "cell_type": "markdown",
      "source": [
        "### Obtain a posterior and visualize\n",
        "\n"
      ],
      "metadata": {
        "id": "Ol6TSzZRE0jv"
      }
    },
    {
      "cell_type": "code",
      "source": [
        "# Build posterior using trained density estimator\n",
        "posterior = inferer.build_posterior(density_estimator)  # Posterior sampling settings."
      ],
      "metadata": {
        "id": "VUC_SCm6EOz1"
      },
      "execution_count": null,
      "outputs": []
    },
    {
      "cell_type": "markdown",
      "source": [
        "Let's create a new observation of a density profile that follows the same NFW.  Let's see how well we can constrain the mass and concentration of a cluster that sits somewhere in the middle of the samples, e.g. $log_{10}M/M_\\odot=14$ and $c=6$."
      ],
      "metadata": {
        "id": "mXkX7IY7IdAc"
      }
    },
    {
      "cell_type": "code",
      "source": [
        "def create_observation_nfw(log10M_obs_true, concentration_obs_true) :\n",
        "  '''\n",
        "  Observation of an NFW profile for some log10 M and concentration.\n",
        "\n",
        "  Returns the parameters (input), and the observations (radial profile) as tensors\n",
        "  '''\n",
        "  theta_truth_np = np.array([log10M_obs_true, concentration_obs_true])\n",
        "  x_truth_np = simulate_nfw(log10mass=log10M_obs_true, concentration=concentration_obs_true).density(radius)\n",
        "\n",
        "  print(np.shape(theta_truth_np))\n",
        "  print(np.shape(x_truth_np))\n",
        "\n",
        "  # turn into tensors\n",
        "  theta_o = torch.as_tensor(theta_truth_np, dtype=torch.float32) \n",
        "  x_o = torch.as_tensor(x_truth_np, dtype=torch.float32)\n",
        "\n",
        "  return theta_o, x_o"
      ],
      "metadata": {
        "id": "ITgf41a8I7_x"
      },
      "execution_count": null,
      "outputs": []
    },
    {
      "cell_type": "markdown",
      "source": [
        "Now, let's visualize the posterior mass and concentration.  We'll use `pygtc` [GitHub](https://github.com/SebastianBocquet/pygtc) [paper](https://joss.theoj.org/papers/10.21105/joss.00046) (I had some issues with dependencies and other visualization tools, but many other exist).  \n",
        "\n",
        "**Fun fact**:  The authors of `pygtc`, Sebastian Bocquet and Faustin Carter, developed the code while postdocs at Argonne, with joint appointments at UChicago."
      ],
      "metadata": {
        "id": "yz14aCIFJ-CS"
      }
    },
    {
      "cell_type": "code",
      "source": [
        "!pip install pygtc"
      ],
      "metadata": {
        "colab": {
          "base_uri": "https://localhost:8080/"
        },
        "id": "wZET5HptQhuv",
        "outputId": "71fc9473-d77c-4f73-9246-ef767b6f4373"
      },
      "execution_count": null,
      "outputs": [
        {
          "output_type": "stream",
          "name": "stdout",
          "text": [
            "Looking in indexes: https://pypi.org/simple, https://us-python.pkg.dev/colab-wheels/public/simple/\n",
            "Requirement already satisfied: chainconsumer in /usr/local/lib/python3.7/site-packages (0.33.0)\n",
            "Requirement already satisfied: statsmodels>=0.7.0 in /usr/local/lib/python3.7/site-packages (from chainconsumer) (0.13.2)\n",
            "Requirement already satisfied: scipy in /usr/local/lib/python3.7/site-packages (from chainconsumer) (1.7.3)\n",
            "Requirement already satisfied: numpy in /usr/local/lib/python3.7/site-packages (from chainconsumer) (1.21.6)\n",
            "Requirement already satisfied: pandas in /usr/local/lib/python3.7/site-packages (from chainconsumer) (1.3.5)\n",
            "Requirement already satisfied: matplotlib!=2.1.*,!=2.2.*,>1.6.0 in /usr/local/lib/python3.7/site-packages (from chainconsumer) (3.5.2)\n",
            "Requirement already satisfied: pillow>=6.2.0 in /usr/local/lib/python3.7/site-packages (from matplotlib!=2.1.*,!=2.2.*,>1.6.0->chainconsumer) (9.2.0)\n",
            "Requirement already satisfied: python-dateutil>=2.7 in /usr/local/lib/python3.7/site-packages (from matplotlib!=2.1.*,!=2.2.*,>1.6.0->chainconsumer) (2.8.2)\n",
            "Requirement already satisfied: packaging>=20.0 in /usr/local/lib/python3.7/site-packages (from matplotlib!=2.1.*,!=2.2.*,>1.6.0->chainconsumer) (21.3)\n",
            "Requirement already satisfied: pyparsing>=2.2.1 in /usr/local/lib/python3.7/site-packages (from matplotlib!=2.1.*,!=2.2.*,>1.6.0->chainconsumer) (3.0.9)\n",
            "Requirement already satisfied: fonttools>=4.22.0 in /usr/local/lib/python3.7/site-packages (from matplotlib!=2.1.*,!=2.2.*,>1.6.0->chainconsumer) (4.34.4)\n",
            "Requirement already satisfied: cycler>=0.10 in /usr/local/lib/python3.7/site-packages (from matplotlib!=2.1.*,!=2.2.*,>1.6.0->chainconsumer) (0.11.0)\n",
            "Requirement already satisfied: kiwisolver>=1.0.1 in /usr/local/lib/python3.7/site-packages (from matplotlib!=2.1.*,!=2.2.*,>1.6.0->chainconsumer) (1.4.4)\n",
            "Requirement already satisfied: typing-extensions in /usr/local/lib/python3.7/site-packages (from kiwisolver>=1.0.1->matplotlib!=2.1.*,!=2.2.*,>1.6.0->chainconsumer) (4.3.0)\n",
            "Requirement already satisfied: six>=1.5 in /usr/local/lib/python3.7/site-packages (from python-dateutil>=2.7->matplotlib!=2.1.*,!=2.2.*,>1.6.0->chainconsumer) (1.15.0)\n",
            "Requirement already satisfied: patsy>=0.5.2 in /usr/local/lib/python3.7/site-packages (from statsmodels>=0.7.0->chainconsumer) (0.5.2)\n",
            "Requirement already satisfied: pytz>=2017.3 in /usr/local/lib/python3.7/site-packages (from pandas->chainconsumer) (2022.1)\n"
          ]
        }
      ]
    },
    {
      "cell_type": "code",
      "source": [
        "import pygtc"
      ],
      "metadata": {
        "id": "Gm5kqBgmSDpg"
      },
      "execution_count": null,
      "outputs": []
    },
    {
      "cell_type": "code",
      "source": [
        "# Create an observation - first for logM=14, c=6, which is roughly on the Child+ predictions\n",
        "theta_o, x_o = create_observation_nfw(14, 6) \n",
        "\n",
        "# Obtain samples of the posterior given the observation\n",
        "samples = posterior.sample((10000,), x=x_o)\n",
        "\n",
        "# Redefine priors and truths\n",
        "priors2d = ((-20,20),(20,20))\n",
        "truths2d = (theta_o.numpy()[0], theta_o.numpy()[1])\n",
        "\n",
        "# The 2d panel and the 1d histograms\n",
        "GTC = pygtc.plotGTC(chains=[samples.numpy()],\n",
        "                    paramNames=['log mass', 'concentration'],\n",
        "                    truths=truths2d,\n",
        "                    priors=priors2d,\n",
        "                    figureSize='MNRAS_column')\n",
        "\n",
        "GTC = pygtc.plotGTC(chains=[samples.numpy()],\n",
        "                    paramNames=['log mass', 'concentration'],\n",
        "                    truths=truths2d,\n",
        "                    priors=priors2d,\n",
        "                    figureSize='MNRAS_column',\n",
        "                    do1dPlots=False, customTickFont={'family':'Arial', 'size':12})"
      ],
      "metadata": {
        "colab": {
          "base_uri": "https://localhost:8080/",
          "height": 562,
          "referenced_widgets": [
            "3e2d33f63bbc4945949f1619f4e0705e",
            "97ca77e5d30e428a830bca672b15f37e",
            "128c8b63321c46ed9677df2685745941",
            "5ab5120a0b834ca1bf4da18a947815bc",
            "186988959fe64f8cb34ae0910500945b",
            "3fa18d728bc1479daf9c3486cd37d6f5",
            "7a751324b84f4bd788ed955ee473db65",
            "bb2221a7f5c24105be9976de9fa0f5b0",
            "3f00323b0da04cc2a4646dc8b1fd6cd5",
            "ebfde025e5c64a2a993c3d32222c487c",
            "d11ccb85539b49bfbfa44edcd6a6cca2"
          ]
        },
        "id": "UetmD-KFXZki",
        "outputId": "c7767535-e51a-4d68-9475-459d6338e462"
      },
      "execution_count": null,
      "outputs": [
        {
          "output_type": "stream",
          "name": "stdout",
          "text": [
            "(2,)\n",
            "(30,)\n"
          ]
        },
        {
          "output_type": "display_data",
          "data": {
            "text/plain": [
              "Drawing 10000 posterior samples:   0%|          | 0/10000 [00:00<?, ?it/s]"
            ],
            "application/vnd.jupyter.widget-view+json": {
              "version_major": 2,
              "version_minor": 0,
              "model_id": "3e2d33f63bbc4945949f1619f4e0705e"
            }
          },
          "metadata": {}
        },
        {
          "output_type": "display_data",
          "data": {
            "text/plain": [
              "<Figure size 240x240 with 3 Axes>"
            ],
            "image/png": "[encoded data removed]"
          },
          "metadata": {
            "needs_background": "light"
          }
        },
        {
          "output_type": "display_data",
          "data": {
            "text/plain": [
              "<Figure size 240x240 with 1 Axes>"
            ],
            "image/png": "[encoded data removed]"
          },
          "metadata": {
            "needs_background": "light"
          }
        }
      ]
    },
    {
      "cell_type": "markdown",
      "source": [
        "Now, let's see what happens when we provide an observation whose mass and concentration are quite far from the theoretical prediction."
      ],
      "metadata": {
        "id": "EclaBgSVTw3S"
      }
    },
    {
      "cell_type": "code",
      "source": [
        "# Now, we create an observation - far from the Child+ predictions, logM=15, c=10\n",
        "theta_o, x_o = create_observation_nfw(15, 10) \n",
        "\n",
        "# Obtain samples of the posterior given the observation\n",
        "samples = posterior.sample((10000,), x=x_o)\n",
        "\n",
        "# Redefine priors and truths\n",
        "priors2d = ((-20,20),(20,20))\n",
        "truths2d = (theta_o.numpy()[0], theta_o.numpy()[1])\n",
        "\n",
        "# The 2d panel and the 1d histograms\n",
        "GTC = pygtc.plotGTC(chains=[samples.numpy()],\n",
        "                    paramNames=['log mass', 'concentration'],\n",
        "                    truths=truths2d,\n",
        "                    priors=priors2d,\n",
        "                    figureSize='MNRAS_column')\n",
        "\n",
        "GTC = pygtc.plotGTC(chains=[samples.numpy()],\n",
        "                    paramNames=['log mass', 'concentration'],\n",
        "                    truths=truths2d,\n",
        "                    priors=priors2d,\n",
        "                    figureSize='MNRAS_column',\n",
        "                    do1dPlots=False, customTickFont={'family':'Arial', 'size':12})\n"
      ],
      "metadata": {
        "colab": {
          "base_uri": "https://localhost:8080/",
          "height": 570,
          "referenced_widgets": [
            "1185ef2d46094935b2cb52b77b4e496e",
            "0e2206d1d4664504868962c1d24ce92a",
            "0c58a13ca56f46d2af88a7faa269c3c4",
            "0f1414af2bbe4ece9ca4c5cdd8421dea",
            "d56b6bca916c4093a3fd6734ee0630e9",
            "fbee3ef4e4df4ea7bb253f12ba81ed29",
            "0c2d66b4c3c44c2fb4438e744b7d003e",
            "17cd47ba6a5147ffb8493e384792fbd3",
            "0020f903fca74d51882596001da4b971",
            "6121110c74f940a2b399967a59f1f5d9",
            "ecf8610a64144e9685c6b1bcb2d06592"
          ]
        },
        "id": "PXpMUb_GWJdh",
        "outputId": "2b644ae8-d715-4168-922c-e768ad3bbe6b"
      },
      "execution_count": null,
      "outputs": [
        {
          "output_type": "stream",
          "name": "stdout",
          "text": [
            "(2,)\n",
            "(30,)\n"
          ]
        },
        {
          "output_type": "display_data",
          "data": {
            "text/plain": [
              "Drawing 10000 posterior samples:   0%|          | 0/10000 [00:00<?, ?it/s]"
            ],
            "application/vnd.jupyter.widget-view+json": {
              "version_major": 2,
              "version_minor": 0,
              "model_id": "1185ef2d46094935b2cb52b77b4e496e"
            }
          },
          "metadata": {}
        },
        {
          "output_type": "display_data",
          "data": {
            "text/plain": [
              "<Figure size 240x240 with 3 Axes>"
            ],
            "image/png": "[encoded data removed]"
          },
          "metadata": {
            "needs_background": "light"
          }
        },
        {
          "output_type": "display_data",
          "data": {
            "text/plain": [
              "<Figure size 240x240 with 1 Axes>"
            ],
            "image/png": "[encoded data removed]"
          },
          "metadata": {
            "needs_background": "light"
          }
        }
      ]
    },
    {
      "cell_type": "markdown",
      "source": [
        "**Discussion**: \n",
        "- Where are the posteriors compared with the known truth for this observation?  Why might this happen?\n",
        "- We have thus far dealt with idealized profiles - assumptions of azimuthal symmetry and that observations will follow near the theoretical predictions.  Why might those assumptions break down?\n",
        "\n",
        "\n",
        "**Prompt for your own experimentation** (if there is time, or to take home with you):  \n",
        "- See what happens to the shape of the posterior as you increase the noise for the mass sample and noisy concentration (e.g. so your concentration-mass data points for the simulation cover more of the space - you can simply increase the standard deviation when we call `np.random.normal`.\n",
        "- Try changing the mass distribution so you either have more points at low mass or more points at high mass (we used a uniform sampling across masses).\n",
        "- Try changing the prior."
      ],
      "metadata": {
        "id": "sbXdzHI0ZGue"
      }
    },
    {
      "cell_type": "code",
      "source": [
        "### Start your experiments here!  ###"
      ],
      "metadata": {
        "id": "97pwFZmXnfv4"
      },
      "execution_count": null,
      "outputs": []
    },
    {
      "cell_type": "code",
      "source": [
        ""
      ],
      "metadata": {
        "id": "TGAKaeJFnjAH"
      },
      "execution_count": null,
      "outputs": []
    }
  ]
}